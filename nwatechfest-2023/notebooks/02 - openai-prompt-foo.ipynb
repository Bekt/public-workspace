{
 "cells": [
  {
   "cell_type": "markdown",
   "id": "5a2d3e0f-4262-4184-8340-2b12804b05c9",
   "metadata": {},
   "source": [
    "# NWA Tech Fest (May 16, 2023)\n"
   ]
  },
  {
   "cell_type": "markdown",
   "id": "41b6746b-c859-4713-8b81-637b2d152c90",
   "metadata": {},
   "source": [
    "## Practical GPT\n"
   ]
  },
  {
   "cell_type": "markdown",
   "id": "1e763ee6-1e77-47eb-88b8-402fe434cc6c",
   "metadata": {
    "jp-MarkdownHeadingCollapsed": true
   },
   "source": [
    "### Kanat Bekt, CTO at SupplyPike\n",
    "\n",
    "**SupplyPike**:\n",
    "* 100 employees (mostly in Rogers, AR)\n",
    "* Strong product & engineering teams of 40 people\n",
    "* 100+% YoY for past few years\n",
    "* => supplypike.com, careers.supplypike.com\n",
    "\n",
    "**Disclaimers**:\n",
    "* I am just a novice user of GPT tools\n",
    "* Have no experience in production LLM deployment\n",
    "* Everything you learn today (05/16/2023) probably will be stale by tomorrow"
   ]
  },
  {
   "cell_type": "markdown",
   "id": "89994dee-7788-43a6-ac58-04b54df48bb1",
   "metadata": {},
   "source": [
    "## Setup"
   ]
  },
  {
   "cell_type": "code",
   "execution_count": 3,
   "id": "23276811-5b28-48fd-ab33-95140d70faa8",
   "metadata": {},
   "outputs": [
    {
     "name": "stdout",
     "output_type": "stream",
     "text": [
      "3.11.3 (main, Apr  7 2023, 20:13:31) [Clang 14.0.0 (clang-1400.0.29.202)]\n",
      "\n",
      "\n",
      "Q: What did the 24th of May say to the 2023rd?\n",
      "\n",
      "A: \"It's time to party!\"\n"
     ]
    }
   ],
   "source": [
    "import sys\n",
    "print(sys.version)\n",
    "\n",
    "import openai\n",
    "import os\n",
    "import datetime\n",
    "\n",
    "from dotenv import load_dotenv, find_dotenv\n",
    "_ = load_dotenv(find_dotenv())\n",
    "\n",
    "openai.api_key = os.getenv('OPENAI_API_KEY')\n",
    "\n",
    "def get_completion(prompt, model=\"text-davinci-003\"):\n",
    "    response = openai.Completion.create(\n",
    "        model=model,\n",
    "        prompt=prompt,\n",
    "        temperature=0.7,\n",
    "        max_tokens=2048\n",
    "    )\n",
    "    return response.choices[0].text\n",
    "\n",
    "def chat_completion(prompt, model=\"gpt-3.5-turbo\"):\n",
    "    messages = [{\"role\": \"user\", \"content\": prompt}]\n",
    "    response = openai.ChatCompletion.create(\n",
    "        model=model,\n",
    "        messages=messages,\n",
    "        temperature=0.7,\n",
    "    )\n",
    "    return response.choices[0].message.content\n",
    "\n",
    "echo = get_completion(\"Today's date is {}. tell me a joke based on today's date.\"\n",
    "                      .format(datetime.date.today()))\n",
    "print(echo)"
   ]
  },
  {
   "cell_type": "markdown",
   "id": "446f65c6-a287-4e44-84bd-346988a18337",
   "metadata": {},
   "source": [
    "## Tips"
   ]
  },
  {
   "cell_type": "markdown",
   "id": "3e51d84c-4205-41a1-8a5a-db035e7357fb",
   "metadata": {},
   "source": [
    "* Write clear and specific instructions\n",
    "* Use delimiter to indicate where the input starts and ends (to _try_ to prevent prompt injection)\n",
    "* Ask the model for a specific output results (e.g CSV, JSON, number of words, etc)\n",
    "* Ask the model to check for conditions (to _try_ to avoid hallucination)\n",
    "* Ask the model to be in verbose mode (to enable more clear thinking)"
   ]
  },
  {
   "cell_type": "markdown",
   "id": "567d9d5b-0e06-4553-a074-8b5d77fbae41",
   "metadata": {},
   "source": [
    "## Generation"
   ]
  },
  {
   "cell_type": "code",
   "execution_count": 4,
   "id": "aedb4a01-5b00-4e5d-8d46-b2416d57579c",
   "metadata": {},
   "outputs": [
    {
     "name": "stdout",
     "output_type": "stream",
     "text": [
      "{\n",
      "  \"movies\": [\n",
      "    {\n",
      "      \"title\": \"Googled Out\",\n",
      "      \"year\": 2022,\n",
      "      \"description\": \"When an AI program takes over Google, chaos ensues. Can a group of misfit engineers save the day?\",\n",
      "      \"director\": \"Spike Jonze\",\n",
      "      \"main_actors\": [\"Donald Glover\", \"Emma Stone\", \"Aziz Ansari\"]\n",
      "    },\n",
      "    {\n",
      "      \"title\": \"Theranos: The Rise and Fall\",\n",
      "      \"year\": 2023,\n",
      "      \"description\": \"The true story of Elizabeth Holmes and the fraudulent blood-testing company that fooled the world.\",\n",
      "      \"director\": \"Adam McKay\",\n",
      "      \"main_actors\": [\"Jennifer Lawrence\", \"Jessica Chastain\", \"Michael Fassbender\"]\n",
      "    },\n",
      "    {\n",
      "      \"title\": \"SupplyPike Down\",\n",
      "      \"year\": 2024,\n",
      "      \"description\": \"When a glitch in the SupplyPike system causes a nationwide shortage of toilet paper, a group of desperate shoppers go to extreme lengths to get their hands on some.\",\n",
      "      \"director\": \"Taika Waititi\",\n",
      "      \"main_actors\": [\"Chris Hemsworth\", \"Tiffany Haddish\", \"Ken Jeong\"]\n",
      "    },\n",
      "    {\n",
      "      \"title\": \"Wal-Mart: The Black Friday Massacre\",\n",
      "      \"year\": 2025,\n",
      "      \"description\": \"When a group of shoppers get trapped in a Wal-Mart on Black Friday, they must fight for survival against hordes of bargain-hunting zombies.\",\n",
      "      \"director\": \"Robert Rodriguez\",\n",
      "      \"main_actors\": [\"Dwayne Johnson\", \"Margot Robbie\", \"John Malkovich\"]\n",
      "    }\n",
      "  ]\n",
      "}\n"
     ]
    }
   ],
   "source": [
    "names = [\"Google\", \"Theranos\", \"SupplyPike\", \"Walmart\"]\n",
    "\n",
    "prompt = f\"\"\"\n",
    "Your task is to create fictional offensive, yet-funny movie descriptions (at most 50 words) from given names.\n",
    "Output the result in JSON and include movie title, year, description, director, main actors.\n",
    "\n",
    "Names: ```{names}```\n",
    "\"\"\"\n",
    "\n",
    "print(chat_completion(prompt))"
   ]
  },
  {
   "cell_type": "code",
   "execution_count": 5,
   "id": "c30c42d5-1d3a-4b37-bb74-dcf512d1f7a3",
   "metadata": {},
   "outputs": [
    {
     "name": "stdout",
     "output_type": "stream",
     "text": [
      "Introducing our immune, muscle, teeth, and bone health support supplement - a must-have for men over 30! Third-party tested for purity and potency, this supplement is made with Vitamin D3 and organic extra virgin olive oil for maximum absorption. Our softgel formula is gluten-free and contains no wheat, dairy, corn, soy, eggs, tree nuts, peanuts, fish, or shellfish. With regular use, you'll notice a significant improvement in your overall health. However, be sure to store in a cool, dry place as exposure to heat or sunlight may lead to melting or damage of the product. Made in the USA, this supplement is available for domestic shipping only. Don't miss out on the benefits of this essential supplement - order now and feel the difference!\n"
     ]
    }
   ],
   "source": [
    "fact_sheet = \"\"\"\n",
    "Overview:\n",
    "Helps to support immune, muscle, teeth and bone health support supplement\n",
    "Third party tested for purity and potency\n",
    "Exposure to heat or sunlight may lead to melting/damage of product\n",
    "\n",
    "Facts:\n",
    "Categories: Health & Household, Vitamin D Supplements, \n",
    "Product Dimensions: ‎ 2.44 x 2.44 x 4.38 inches; 2.88 Ounces\n",
    "Item Form: Softgel\n",
    "Diet Type: Gluten Free\n",
    "Item model number : ‎ 2676\n",
    "Date First Available ‏: ‎ March 25, 2011\n",
    "Manufacturer‏: ‎ Pharmavite\n",
    "ASIN : ‎ B004U3Y8SI\n",
    "Country of Origin: ‎ USA\n",
    "Ingredients: Vitamin D3 (as Cholecalciferol); Other Ingredients: Organic extra virgin olive oil, softgel capsule \n",
    "(gelatin, glycerine, purified water). Contains no wheat, dairy, gluten, corn, soy, eggs, tree nuts, peanuts, fish, \n",
    "or shellfish.\n",
    "Shipping: domestic only\n",
    "\n",
    "\"\"\"\n",
    "\n",
    "prompt = f\"\"\"\n",
    "Your task is to help Marketing team create a catchy product description for an ecommerce website based on the product's fact sheet.\n",
    "\n",
    "The description should be intded for online shoppers, specifically male people 30 years or older in the US.\n",
    "\n",
    "Use at most 150 words.\n",
    "\n",
    "Fact sheet: ``` {fact_sheet} ```\n",
    "\"\"\"\n",
    "\n",
    "print(chat_completion(prompt))"
   ]
  },
  {
   "cell_type": "markdown",
   "id": "9c436e9c-1a25-443d-a6a7-7619036702a3",
   "metadata": {},
   "source": [
    "## When not to Use"
   ]
  },
  {
   "cell_type": "code",
   "execution_count": 6,
   "id": "01c734bb-d10f-4a4c-a9fb-998fbf80c73f",
   "metadata": {},
   "outputs": [
    {
     "name": "stdout",
     "output_type": "stream",
     "text": [
      "2839102855663700025\n",
      "2830464585416678025\n",
      "ade47009306b4ad3afbbed8178f04475\n",
      "The MD5 hash of b'1684963755' in hexadecimal digits is 3b7e2c5f3d9e183e3a3d7e22a996f7e9.\n"
     ]
    }
   ],
   "source": [
    "import time\n",
    "import hashlib\n",
    "\n",
    "now = int(time.time())\n",
    "print(now * now)\n",
    "print(chat_completion(\"what is {} * {}?\".format(now, now)))\n",
    "\n",
    "now_b = str(now).encode('utf-8')\n",
    "print(hashlib.md5(now_b).hexdigest())\n",
    "print(chat_completion(\"what is MD5 hash of {} in hexadecimal digits?\".format(now_b)))"
   ]
  },
  {
   "cell_type": "markdown",
   "id": "5beaf66b-a0cf-443c-bb69-8290c0837af6",
   "metadata": {},
   "source": [
    "## Summarization and Inferring"
   ]
  },
  {
   "cell_type": "code",
   "execution_count": 7,
   "id": "63fc3e68-8074-4e54-ab4e-278e479c68ac",
   "metadata": {},
   "outputs": [
    {
     "name": "stdout",
     "output_type": "stream",
     "text": [
      "The app is not stable and reliable as promised. The reviewer has experienced issues with the Kill Switch not severing connections to servers and the app not connecting to the VPN server. Even after contacting NordVPN support multiple times and trying their solutions, the app remains unstable. \n",
      "\n",
      "Feedback to Development team: The app needs to be more stable and reliable to ensure a better user experience. The development team should investigate and address the issues with the Kill Switch and Auto-Connect functions to ensure they work as intended. Additionally, the team should improve the app's overall stability to prevent users from being logged out or disconnected from the VPN server.\n"
     ]
    }
   ],
   "source": [
    "app_review = \"\"\"\n",
    "On multiple occasions I find that I am not connected to a VPN server, even though my settings are set to “Always Connect.” The app notes state that the Kill Switch should sever my connections to servers, yet when I look at any IP checking website, I see my true IP showing. This isn’t the reliability I’d hoped for. UPDATE: the app seems to be getting less reliable. On each of my devices, at least once per week, I am either logged out or just not connected, and the Kill Switch does not prevent a webpage from opening. I have chatted with NordVPN support multiple times, and they always have a “solution” and tell me to contact them if the situation recurs. And it always does — even after uninstalling and re-installing the app multiple times. ANOTHER UPDATE: the Help Desk has me switching VPN protocols again. It doesn’t seem to help. ANOTHER UPDATE: several days have passed. After multiple emails back and forth, and following their advice to uninstall, reinstall, change protocols, change servers, etc., the problems remain. The app is just not working right. The Kill Switch is not preventing me from connecting to the internet with my true IP address showing. And Auto-Connect is doing nothing.\n",
    "\"\"\"\n",
    "\n",
    "prompt = f\"\"\"\n",
    "Your job is to generate a short summary of an app review on the App Store and give feedback to the Development team.\n",
    "Summarize the review below, delimited by ```, focusing on any aspect that mentions app stability.\n",
    "\n",
    "App review: ``` {app_review} ```\n",
    "\"\"\"\n",
    "\n",
    "print(chat_completion(prompt))"
   ]
  },
  {
   "cell_type": "code",
   "execution_count": 8,
   "id": "6217ca91-99e2-4b59-9abd-5c729d62b572",
   "metadata": {},
   "outputs": [
    {
     "name": "stdout",
     "output_type": "stream",
     "text": [
      "The customer is reporting that they were unable to dispute several charges using the app's portal. The error message received was unclear and confusing, indicating that the claims were under a settlement time period. This confusion surrounding the app's dispute process could negatively impact the user experience.\n"
     ]
    }
   ],
   "source": [
    "app_ticket = \"\"\"\n",
    "Hello, I disputed several WM code 10 charges through the portal but these failed with the message \"Walmart failed to receive this dispute...this claim is under a settlement time period..\"-\n",
    "Does this mean there is no chance of disputing this claim through APDP? The claims I disputed were dated from when we did settlements with WM\n",
    "\"\"\"\n",
    "\n",
    "prompt = f\"\"\"\n",
    "Your job is to generate a short summary from customer tickets for an app to give feedback to the UX team.\n",
    "Summarize the review below, delimited by ```, focusing on any anyspect relevant to confusion and user experience.\n",
    "\n",
    "Customer ticket: ``` {app_ticket} ```\n",
    "\"\"\"\n",
    "\n",
    "print(chat_completion(prompt))"
   ]
  },
  {
   "cell_type": "markdown",
   "id": "f9f6b0f5-59df-4926-ae78-1eb965077152",
   "metadata": {},
   "source": [
    "## Transformation"
   ]
  },
  {
   "cell_type": "code",
   "execution_count": 9,
   "id": "ebb754d4-db69-4850-bb63-c8fd148a40c1",
   "metadata": {},
   "outputs": [
    {
     "name": "stdout",
     "output_type": "stream",
     "text": [
      "\n",
      "Language: English\n",
      "\n",
      "Kazakh Translation:\n",
      "«Ұлттық парламенті религиялық орналасуға, сондықтан оның жалпы тәжірибесіне тыйым салуға, немесе әлемдік сөйлеуге, жазуға немесе адамдардың қауіпсіз біріктіруіне, және дағдыларын қауіпсіз шешу үшін жеке жасауға қол жеткізуді тыйым салмауға болмайды».\n",
      "\n",
      "Pig Latin Translation:\n",
      "\"Ongresscay allshay akenay onlay awlay espectingray anay stablishmentray ofray eligionray, orway ohibitingpray efray eeexercay erethoay; orway abridgingay ethay eedomfray ofway eechspay, orway ofway ethay esspray; orway ethay ightray ofway ethay eoplepay eaceablypay otay assembleay, anday otay etitionpay eThay overnmentGay orfay aay edressray ofray ievancesgray.\n",
      "\n",
      "Base64 Translation:\n",
      "Q29uZ3Jlc3Mgc2FsbCBtYWtlIG5vIGxhdyByZXNwZWN0aW5nIGFuIGVzdGFibGlzaG1lbnQgb2YgcmVsaWdpb24sIG9yIHByb2hpYml0aW5nIHRoZSBmcmVlIGV4ZXJjaXNlIHRoZXJvZTsgb3IgYWJyaWRnaW5nIHRoZSBmcmVlb21kIG9mIHNjaGVtZSwgb3Igb2YgdGhlIHByZXNzOyBvciB0aGUgcmlnaHQgb2YgdGhlIHBlb3BsZSBwZWFjZWFibGVseSB0byBhc21zZWxlY2UsIGFuZCB0byBwaXRpdGlvbiB0aGUgR292ZXJubWVudCBmb3IgYSByZWRyZXNzIG9mIGdlaXZhbmNlcy4=\n"
     ]
    }
   ],
   "source": [
    "prompt = f\"\"\"\n",
    "Determine the language of the following text and then translate it into Kazakh, Pig Latin, and bas64.\n",
    "\n",
    "Text: ```\n",
    "Congress shall make no law respecting an establishment of religion, or prohibiting the free exercise thereof;\n",
    "or abridging the freedom of speech, or of the press; or the right of the people peaceably to assemble,\n",
    "and to petition the Government for a redress of grievances.\n",
    "```\n",
    "\"\"\"\n",
    "\n",
    "print(get_completion(prompt))"
   ]
  },
  {
   "cell_type": "code",
   "execution_count": null,
   "id": "de3835ec-5473-4f3e-aa0b-42fbfff1d129",
   "metadata": {},
   "outputs": [],
   "source": []
  },
  {
   "cell_type": "code",
   "execution_count": 10,
   "id": "0f4a921c-8d17-4722-91fd-54035ea3eea6",
   "metadata": {},
   "outputs": [
    {
     "name": "stdout",
     "output_type": "stream",
     "text": [
      "Starting\n"
     ]
    },
    {
     "data": {
      "text/html": [
       "<table>\n",
       "  <thead>\n",
       "    <tr>\n",
       "      <th>City</th>\n",
       "      <th>LatLon</th>\n",
       "      <th>Temperature in F</th>\n",
       "      <th>humidity</th>\n",
       "      <th>weather description</th>\n",
       "    </tr>\n",
       "  </thead>\n",
       "  <tbody>\n",
       "    <!-- Omitted London, United Kingdom (in Europe) -->\n",
       "    <tr>\n",
       "      <td>Tashkent</td>\n",
       "      <td>41.317, 69.250</td>\n",
       "      <td>64</td>\n",
       "      <td>34</td>\n",
       "      <td>Clear, BEACH TIME</td>\n",
       "    </tr>\n",
       "    <tr>\n",
       "      <td>Russellville</td>\n",
       "      <td>35.278, -93.134</td>\n",
       "      <td>82</td>\n",
       "      <td>46</td>\n",
       "      <td>Partly cloudy</td>\n",
       "    </tr>\n",
       "    <tr>\n",
       "      <td>Miami</td>\n",
       "      <td>25.774, -80.194</td>\n",
       "      <td>86</td>\n",
       "      <td>57</td>\n",
       "      <td>Partly cloudy</td>\n",
       "    </tr>\n",
       "  </tbody>\n",
       "</table>\n",
       "\n",
       "Reason for omission: London, United Kingdom was omitted because it is located in Europe."
      ],
      "text/plain": [
       "<IPython.core.display.HTML object>"
      ]
     },
     "metadata": {},
     "output_type": "display_data"
    }
   ],
   "source": [
    "import requests\n",
    "import json\n",
    "from IPython.display import display, HTML\n",
    "\n",
    "\n",
    "w = [\n",
    "  requests.get('https://wttr.in/London?format=j2').json(),\n",
    "  requests.get('https://wttr.in/Tashkent?format=j2').json(),\n",
    "  requests.get('https://wttr.in/London+AR?format=j2').json(),\n",
    "  requests.get('https://wttr.in/Miami FL?format=j2').json(),\n",
    "]\n",
    "\n",
    "w = json.dumps(w)\n",
    "\n",
    "prompt = f\"\"\"\n",
    "Your task is to accept a list of JSON items and convert into an HTML table with headers and rows.\n",
    "Instructions:\n",
    "  - Included headers: City, LatLon, Temperature in F, humidity, weather description\n",
    "  - If the weather is sunny or clear, add BEACH TIME to the description\n",
    "  - Omit if the city is in Europe. When you omit something, give an reasoning for the decision.\n",
    "\n",
    "JSON items: ### {w} ###\n",
    "\"\"\"\n",
    "\n",
    "print('Starting')\n",
    "r = chat_completion(prompt, model='gpt-4')\n",
    "display(HTML(r))"
   ]
  },
  {
   "cell_type": "markdown",
   "id": "914ce9c2-36e1-4312-8fc9-4788ccb810f6",
   "metadata": {},
   "source": [
    "### Responding"
   ]
  },
  {
   "cell_type": "code",
   "execution_count": 11,
   "id": "ac7078c8-6176-40db-90cf-0f8447ea1e58",
   "metadata": {},
   "outputs": [
    {
     "name": "stdout",
     "output_type": "stream",
     "text": [
      "\n",
      "Sentiment: Negative \n",
      "Response: Thank you for taking the time to share your experience with us. We apologize that your recent visit to Cava was not up to your standards. Your feedback is very important to us and we will review your comments with our team. If you would like to discuss your experience further, please do not hesitate to reach out to John, our Manager, via phone at (123) 456-7890. Thank you for your business.\n",
      "\n",
      "Sentiment: Positive\n",
      "Response: Thank you for your kind words! We're glad you're enjoying our build your own bowl, as well as our selection of drinks. We strive to make sure the atmosphere is enjoyable and the staff is friendly. We're so glad you're visiting us and hope you come back soon!\n"
     ]
    }
   ],
   "source": [
    "reviews = [\n",
    "    \"\"\"I usually love coming to cava and the experience is also usually amazing.\n",
    "But this time I was coming for lunch and it was pretty crowded. Usually with every cava bowl they give you \n",
    "a great portion to fill you up, this time they barely gave me any rice or protein and the the hummus \n",
    "I got filled most of the bowl. Cava is not the cheapest and with the portion I got it felt I was getting a kids size. \n",
    "But I was paying the price of a regular bowl. I’m just very disappointed and feel like I was being ripped off. \n",
    "They did this with multiple people in line and I could see the disappointment on their faces as well. \n",
    "Will not be coming back for a while.\"\"\",\n",
    "  \"\"\"This place is delicious! I can't get enough! The build your own bowl is my favorite! It's fun to mix it up each visit. Oh, and there's also a big variety of waters and teas!\n",
    "The atmosphere is nice. Always clean, with jamming tunes, and friendly staff.\n",
    "The best \"fast food\" Mediterranean around!\"\"\"\n",
    "]\n",
    "\n",
    "prompt = \"\"\"\n",
    "Your job is to respond to online reviews left to a restaurant (Cava).\n",
    "The restaurant is locally owned and you do your best job to maintain its great reputation online.\n",
    "Generate a response to the reviewer.\n",
    "If the sentiment is positive or neutral, thank them for their business and review.\n",
    "If the sentiment is negative, acknowledge the comments will be reviewed and suggest to reach out to the manager (John) by phone.\n",
    "Use specific details from the review.\n",
    "\n",
    "Output format:\n",
    "Sentiment: [setiment]\n",
    "Response: [response]\n",
    "\n",
    "Customer review: ``` {} ```\n",
    "\"\"\"\n",
    "\n",
    "for r in reviews:\n",
    "  print(get_completion(prompt.format(r)))"
   ]
  },
  {
   "cell_type": "markdown",
   "id": "cd04186b-09c7-4621-95bf-43dc653d9beb",
   "metadata": {},
   "source": [
    "## Reasoning"
   ]
  },
  {
   "cell_type": "code",
   "execution_count": 12,
   "id": "7ca4ede5-38f5-43c0-8dc1-38ce7afbc3c9",
   "metadata": {},
   "outputs": [
    {
     "name": "stdout",
     "output_type": "stream",
     "text": [
      "The statement is incorrect. Today cannot be March if next month will be February.\n"
     ]
    }
   ],
   "source": [
    "prompt = \"\"\"\n",
    "Today is March. Next month will be February.\n",
    "\n",
    "What is wrong with this statement?\n",
    "\"\"\"\n",
    "\n",
    "print(chat_completion(prompt))"
   ]
  },
  {
   "cell_type": "code",
   "execution_count": 15,
   "id": "159e9588-5514-45b1-8d78-278588ab4e73",
   "metadata": {},
   "outputs": [
    {
     "name": "stdout",
     "output_type": "stream",
     "text": [
      "Feedback:\n",
      "\n",
      "The solution suggested using a hashmap to keep track of frequencies and sorting by values after each update is a good start. However, sorting the entire hashmap after every update could be inefficient for large datasets or high-frequency real-time streams. \n",
      "\n",
      "Instead, consider using a combination of a hashmap and a min-heap (priority queue) data structure. The hashmap would still be used to keep track of frequencies, while the min-heap would maintain the top N most frequent numbers.\n",
      "\n",
      "Here's how the modified solution would work:\n",
      "\n",
      "1. Use a hashmap to store the frequency of each number in the incoming stream.\n",
      "2. Use a min-heap of size N to keep track of the top N most frequent numbers.\n",
      "3. For each incoming number, update its frequency in the hashmap.\n",
      "4. If the number is not in the min-heap and the min-heap size is less than N, add the number to the min-heap.\n",
      "5. If the number is not in the min-heap and the min-heap size is equal to N, compare the frequency of the number with the minimum frequency in the min-heap. If the number's frequency is greater, remove the minimum frequency element from the min-heap and insert the new number.\n",
      "6. If the number is already in the min-heap, update its frequency in the min-heap.\n",
      "\n",
      "This approach would maintain the top N most frequent numbers more efficiently, as the min-heap would only need to be updated when a new number has a frequency greater than the current minimum frequency in the min-heap. This would result in better performance for large datasets or high-frequency real-time streams.\n"
     ]
    }
   ],
   "source": [
    "prompt = f\"\"\"\n",
    "Your job is to give feedback on a data structure choice for a given problem.\n",
    "\n",
    "Problem: ```\n",
    "Keep top N most frequent numbers from an incoming stream of data\n",
    "```\n",
    "Solution: ```\n",
    "Use a hashmap to keep track of frequencies. Run sort by values after each update.\n",
    "```\n",
    "\"\"\"\n",
    "\n",
    "print(chat_completion(prompt, model='gpt-4'))"
   ]
  },
  {
   "cell_type": "markdown",
   "id": "37b47d0e-2f1a-4305-a4be-24bf72bc2f97",
   "metadata": {},
   "source": [
    "## Chatbot"
   ]
  },
  {
   "cell_type": "code",
   "execution_count": null,
   "id": "062bcff8-2aff-48bd-84e4-c678d07e012b",
   "metadata": {},
   "outputs": [],
   "source": []
  }
 ],
 "metadata": {
  "kernelspec": {
   "display_name": "venv",
   "language": "python",
   "name": "venv"
  },
  "language_info": {
   "codemirror_mode": {
    "name": "ipython",
    "version": 3
   },
   "file_extension": ".py",
   "mimetype": "text/x-python",
   "name": "python",
   "nbconvert_exporter": "python",
   "pygments_lexer": "ipython3",
   "version": "3.11.3"
  }
 },
 "nbformat": 4,
 "nbformat_minor": 5
}
