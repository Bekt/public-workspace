{
 "cells": [
  {
   "cell_type": "markdown",
   "id": "c7116718-e432-4e41-b0da-6f5de75002b0",
   "metadata": {},
   "source": [
    "## User resources\n"
   ]
  },
  {
   "cell_type": "markdown",
   "id": "e3060bc3-bc23-4d72-b6cd-3b3b3b2b0362",
   "metadata": {},
   "source": [
    "* Your day-to-day tools"
   ]
  },
  {
   "cell_type": "markdown",
   "id": "d0b5a1dc-f74f-4cbe-aac2-92c86a3dde2f",
   "metadata": {},
   "source": [
    "## Existing Resources"
   ]
  },
  {
   "cell_type": "markdown",
   "id": "b8f29ae3-5f78-426c-ae42-d8ef823b03cf",
   "metadata": {},
   "source": [
    "\n",
    "  * Chat\n",
    "    * ChatGPT (chat.openai.com)\n",
    "    * OpenAI Playground (platform.openai.com/playground)\n",
    "    * Bing Chat (bing.com/chat)\n",
    "    * Google Bard (bard.google.com/)\n",
    "    * Perplexity (perplexity.ai)\n",
    "  * Millions of Chrome Extensions\n",
    "  * AI Tools Aggregator (theresanaiforthat.com/)\n",
    "  * AI Magic Tools (runwayml.com)\n",
    "  * Development: Github Copilot, Warp, Bloop AI\n",
    "  * Writing, marketing: Copy.ai, SurferSEO.com, Type.ai, Jasper.ai, Wordtune.com\n",
    "  * Video: Descript, Vidyo.ai\n",
    "  * Images\n",
    "    * Midjourney, Dalle-2, Stable Diffusion\n",
    "    * Bing Create (bing.com/create)\n",
    "    * Playground AI (playgroundai.com)\n"
   ]
  },
  {
   "cell_type": "markdown",
   "id": "927ceb34-a49d-4130-a956-770f97509f06",
   "metadata": {},
   "source": [
    "## Developer Resources\n"
   ]
  },
  {
   "cell_type": "markdown",
   "id": "612c71ef-7ad6-419b-b7ae-ba7285c1f466",
   "metadata": {},
   "source": [
    "  * OpenAI API (platform.openai.com/docs/api-reference)\n",
    "  * LangChain: building blocks for LLM-powered applications \n",
    "  * GPT4All (gpt for all): train customized LLMs locally\n",
    "  * LlamaIndex (prev GPT Index): index & retrieval with custom data for LLM-needs\n",
    "  * Stable Diffusion\n",
    "  * HuggingFace\n",
    "  * Anthropic, Cohere: commercial OpenAI alternatives\n",
    "  * AutoGPT: don't bother"
   ]
  },
  {
   "cell_type": "code",
   "execution_count": null,
   "id": "2c9c4806-0d8f-4f52-9a84-1de8752d34e0",
   "metadata": {},
   "outputs": [],
   "source": []
  }
 ],
 "metadata": {
  "kernelspec": {
   "display_name": "venv",
   "language": "python",
   "name": "venv"
  },
  "language_info": {
   "codemirror_mode": {
    "name": "ipython",
    "version": 3
   },
   "file_extension": ".py",
   "mimetype": "text/x-python",
   "name": "python",
   "nbconvert_exporter": "python",
   "pygments_lexer": "ipython3",
   "version": "3.11.3"
  }
 },
 "nbformat": 4,
 "nbformat_minor": 5
}
